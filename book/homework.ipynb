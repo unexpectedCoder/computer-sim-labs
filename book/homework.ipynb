{
 "cells": [
  {
   "cell_type": "markdown",
   "metadata": {},
   "source": [
    "# Домашнее задание"
   ]
  },
  {
   "cell_type": "markdown",
   "metadata": {},
   "source": [
    "## Условие\n",
    "\n",
    "Смоделировать нестационарное обтекание бесконечного цилинда круглого сечения дозвуковым потоком вязкой жидкости методом решётчатого газа Больцмана."
   ]
  },
  {
   "cell_type": "markdown",
   "metadata": {},
   "source": [
    "## Методические указания\n",
    "\n",
    "Для решения поставленной задачи точно потребуются следующие библиотеки:"
   ]
  },
  {
   "cell_type": "code",
   "execution_count": 1,
   "metadata": {},
   "outputs": [],
   "source": [
    "from numpy import *\n",
    "import matplotlib.pyplot as plt"
   ]
  },
  {
   "cell_type": "markdown",
   "metadata": {},
   "source": [
    "### Вспомогательные структуры данных\n",
    "\n",
    "Полезно завести вспомогательные структуры данных для хранения начальных условий, результатов и пр.:"
   ]
  },
  {
   "cell_type": "code",
   "execution_count": 2,
   "metadata": {},
   "outputs": [],
   "source": [
    "# Применение к Python-классу декоратора dataclass\n",
    "# закономерно приводит к получению дата-класса,\n",
    "# т.е. класса, предназначенного для хранения данных.\n",
    "# При этом значительно упрощается описание такого класса.\n",
    "from dataclasses import dataclass\n",
    "\n",
    "# frozen=True запрещает изменять данные\n",
    "@dataclass(frozen=True)\n",
    "class LBEParams:\n",
    "    \"\"\"Хранит исходные данные, необходимые для решателя.\n",
    "    \n",
    "    * `Re`: число Рейнольдса.\n",
    "    * `nx` и `ny`: размеры сетки.\n",
    "    *  и т.д. ...\n",
    "\n",
    "    \"\"\"\n",
    "    Re: float = 180.0\n",
    "    nx: int = 420\n",
    "    ny: int = 180\n",
    "    # TODO: Добавьте недостающие поля\n",
    "    ...\n",
    "\n",
    "\n",
    "@dataclass(frozen=True)\n",
    "class Obstacle:\n",
    "    \"\"\"Хранит радиус и координаты центра круга.\"\"\"\n",
    "    pass\n",
    "\n",
    "\n",
    "class Visualizer:\n",
    "    \"\"\"Отвечает за визуализацию результатов.\"\"\"\n",
    "\n",
    "    def __init__(self, name: str):\n",
    "        # Экземпляры имеют собственные графики\n",
    "        self.fig, self.ax = plt.subplots(num=name)\n",
    "        # и собственное имя, которое позволяет\n",
    "        # Matplotlib'у под капотом различать\n",
    "        # графики между собой (это их ID).\n",
    "        self.name = name\n",
    "\n",
    "    def plot_data(self, iteration: int, data: ndarray, save_dir: str, **kw):\n",
    "        \"\"\"Построить график данных `data`.\n",
    "        \n",
    "        * `iteration`: текущая итерация моделирования,\n",
    "          например, для отображения на графике.\n",
    "        * `save_dir`: директория сохранения изображений.\n",
    "        * `**kw`: дополнительные параметры, как цветовая карта графика, заголовок и пр.\n",
    "        \"\"\"\n",
    "        pass"
   ]
  },
  {
   "cell_type": "markdown",
   "metadata": {},
   "source": [
    "```{important}\n",
    "Вместо заглушек `pass` и многоточих `...` должна быть ваша реализация кода.\n",
    "```"
   ]
  },
  {
   "cell_type": "markdown",
   "metadata": {},
   "source": [
    "Пример графика показан на рисунке ниже.\n",
    "\n",
    "![Пример графика](./pics-homework/plot-example.png)"
   ]
  },
  {
   "cell_type": "markdown",
   "metadata": {},
   "source": [
    "```{note}\n",
    "Как сохранять Matplotlib-графики можно узнать [здесь](https://matplotlib.org/stable/api/_as_gen/matplotlib.pyplot.savefig.html).\n",
    "```"
   ]
  },
  {
   "cell_type": "markdown",
   "metadata": {},
   "source": [
    "### Решатель\n",
    "\n",
    "Шаблон кода класса решателя приведён ниже:"
   ]
  },
  {
   "cell_type": "code",
   "execution_count": 3,
   "metadata": {},
   "outputs": [],
   "source": [
    "class LBESolver:\n",
    "    def __init__(self, params: LBEParams):\n",
    "        pass\n",
    "        self.speed_vis = Visualizer(r\"Скорость $\\|{\\bf u}\\|$\")\n",
    "        self.press_vis = Visualizer(r\"Давление $p$\")\n",
    "        self.dens_vis = Visualizer(r\"Плотность $\\rho$\")\n",
    "    \n",
    "    def where_obstacle(self, x, y):\n",
    "        \"\"\"Определить, какие узлы решётки принадлежат препятствию.\n",
    "        \n",
    "        * `x` и `y`: координаты узла.\n",
    "        \"\"\"\n",
    "        pass\n",
    "    \n",
    "    # TODO: Опишите ваши параметры для этого метода вместо *args\n",
    "    # Подробнее об этом методе см. далее\n",
    "    def init_velo(self, *args):\n",
    "        \"\"\"Инициализировать начальное возмущение скорости газа\n",
    "        в узлах решётки.\"\"\"\n",
    "        pass\n",
    "    \n",
    "    def solve(self, iters=100_000, n_pics=100):\n",
    "        \"\"\"Основной метод решателя.\n",
    "        \n",
    "        * `iters`: количество итераций расчёта.\n",
    "        * `n_pics`: количество картинок, которое необходимо сохранить\n",
    "          через равные промежутки времени.\n",
    "        \"\"\"\n",
    "        # TODO: Ваша реализация согласно методическим указаниям (пункты 1-6)\n",
    "        for time in range(iters):\n",
    "            # TODO: пункт 7 методических указаний\n",
    "            # и визуализация через каждые iters // n_pics\n",
    "            pass"
   ]
  },
  {
   "cell_type": "markdown",
   "metadata": {},
   "source": [
    "Метод `init_velo(...)` предназначен для инициализации начальной скорости газа в узлах решётки (см. метод. указания, п. 6) по формуле\n",
    "\n",
    "$$\n",
    "v_{init} = u_{LB} + \\delta u_{LB}\n",
    "    = u_{LB} \\cdot \\left[\n",
    "        1 + 10^{-4} \\cdot \\sin\\left( \\cfrac{2\\pi}{n_y - 1} \\cdot y \\right)\n",
    "    \\right],\n",
    "$$\n",
    "\n",
    "т.е. скорость по вертикальной оси распределена неравномерно.\n",
    "\n",
    "Заданная в исходных данных скорость $u_{LB}$ направлена вдоль оси $Ox$.\n",
    "\n",
    "Метод `where_obstacle(...)` достаточно прост:\n",
    "узел принадлежит цилиндру, если его координаты $(x; y)$ лежат внутри окружности, радиус и координаты центра которой известны."
   ]
  },
  {
   "cell_type": "markdown",
   "metadata": {},
   "source": [
    "### Моделирование\n",
    "\n",
    "Остаётся лишь промоделировать при заданных исходных данных:\n",
    "\n",
    "```{code}\n",
    "# Инициализация исходных данных\n",
    "params = LBEParams(...)\n",
    "# Инициализация решателя\n",
    "solver = LBESolver(params)\n",
    "# Решение задачи + визуализация\n",
    "solver.solve(...)\n",
    "```"
   ]
  },
  {
   "cell_type": "markdown",
   "metadata": {},
   "source": [
    "В отчёте необходимо _проанализировать_ полученные результаты."
   ]
  }
 ],
 "metadata": {
  "kernelspec": {
   "display_name": ".venv",
   "language": "python",
   "name": "python3"
  },
  "language_info": {
   "codemirror_mode": {
    "name": "ipython",
    "version": 3
   },
   "file_extension": ".py",
   "mimetype": "text/x-python",
   "name": "python",
   "nbconvert_exporter": "python",
   "pygments_lexer": "ipython3",
   "version": "3.10.12"
  },
  "orig_nbformat": 4
 },
 "nbformat": 4,
 "nbformat_minor": 2
}
